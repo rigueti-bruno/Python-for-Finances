{
 "cells": [
  {
   "cell_type": "markdown",
   "metadata": {},
   "source": [
    "### Cálculo do Risco Diversificável e Não Diversificável de um Portfolio"
   ]
  },
  {
   "cell_type": "code",
   "execution_count": 1,
   "metadata": {},
   "outputs": [],
   "source": [
    "# Importando bibliotecas necessárias:\n",
    "import numpy as np\n",
    "import pandas as pd\n",
    "import pandas_datareader.data as wb\n",
    "import matplotlib.pyplot as plt"
   ]
  },
  {
   "cell_type": "code",
   "execution_count": 2,
   "metadata": {},
   "outputs": [
    {
     "data": {
      "text/html": [
       "<div>\n",
       "<style scoped>\n",
       "    .dataframe tbody tr th:only-of-type {\n",
       "        vertical-align: middle;\n",
       "    }\n",
       "\n",
       "    .dataframe tbody tr th {\n",
       "        vertical-align: top;\n",
       "    }\n",
       "\n",
       "    .dataframe thead th {\n",
       "        text-align: right;\n",
       "    }\n",
       "</style>\n",
       "<table border=\"1\" class=\"dataframe\">\n",
       "  <thead>\n",
       "    <tr style=\"text-align: right;\">\n",
       "      <th></th>\n",
       "      <th>PG</th>\n",
       "      <th>BEI.DE</th>\n",
       "    </tr>\n",
       "    <tr>\n",
       "      <th>Date</th>\n",
       "      <th></th>\n",
       "      <th></th>\n",
       "    </tr>\n",
       "  </thead>\n",
       "  <tbody>\n",
       "    <tr>\n",
       "      <th>2016-12-23</th>\n",
       "      <td>72.407875</td>\n",
       "      <td>77.221924</td>\n",
       "    </tr>\n",
       "    <tr>\n",
       "      <th>2016-12-27</th>\n",
       "      <td>72.101074</td>\n",
       "      <td>77.537231</td>\n",
       "    </tr>\n",
       "    <tr>\n",
       "      <th>2016-12-28</th>\n",
       "      <td>71.649376</td>\n",
       "      <td>77.413017</td>\n",
       "    </tr>\n",
       "    <tr>\n",
       "      <th>2016-12-29</th>\n",
       "      <td>71.888016</td>\n",
       "      <td>77.499016</td>\n",
       "    </tr>\n",
       "    <tr>\n",
       "      <th>2016-12-30</th>\n",
       "      <td>71.657921</td>\n",
       "      <td>77.011711</td>\n",
       "    </tr>\n",
       "  </tbody>\n",
       "</table>\n",
       "</div>"
      ],
      "text/plain": [
       "                   PG     BEI.DE\n",
       "Date                            \n",
       "2016-12-23  72.407875  77.221924\n",
       "2016-12-27  72.101074  77.537231\n",
       "2016-12-28  71.649376  77.413017\n",
       "2016-12-29  71.888016  77.499016\n",
       "2016-12-30  71.657921  77.011711"
      ]
     },
     "execution_count": 2,
     "metadata": {},
     "output_type": "execute_result"
    }
   ],
   "source": [
    "# Carregando dados:\n",
    "tickers = ['PG', 'BEI.DE']\n",
    "\n",
    "sec_data = pd.DataFrame()\n",
    "\n",
    "for t in tickers:\n",
    "    sec_data[t] = wb.DataReader(t, data_source='yahoo', start='2007-1-1', end='2017-1-1')['Adj Close']\n",
    "    \n",
    "sec_data.tail()"
   ]
  },
  {
   "cell_type": "code",
   "execution_count": 3,
   "metadata": {},
   "outputs": [
    {
     "data": {
      "text/html": [
       "<div>\n",
       "<style scoped>\n",
       "    .dataframe tbody tr th:only-of-type {\n",
       "        vertical-align: middle;\n",
       "    }\n",
       "\n",
       "    .dataframe tbody tr th {\n",
       "        vertical-align: top;\n",
       "    }\n",
       "\n",
       "    .dataframe thead th {\n",
       "        text-align: right;\n",
       "    }\n",
       "</style>\n",
       "<table border=\"1\" class=\"dataframe\">\n",
       "  <thead>\n",
       "    <tr style=\"text-align: right;\">\n",
       "      <th></th>\n",
       "      <th>PG</th>\n",
       "      <th>BEI.DE</th>\n",
       "    </tr>\n",
       "    <tr>\n",
       "      <th>Date</th>\n",
       "      <th></th>\n",
       "      <th></th>\n",
       "    </tr>\n",
       "  </thead>\n",
       "  <tbody>\n",
       "    <tr>\n",
       "      <th>2016-12-23</th>\n",
       "      <td>0.005784</td>\n",
       "      <td>0.001858</td>\n",
       "    </tr>\n",
       "    <tr>\n",
       "      <th>2016-12-27</th>\n",
       "      <td>-0.004246</td>\n",
       "      <td>0.004075</td>\n",
       "    </tr>\n",
       "    <tr>\n",
       "      <th>2016-12-28</th>\n",
       "      <td>-0.006284</td>\n",
       "      <td>-0.001603</td>\n",
       "    </tr>\n",
       "    <tr>\n",
       "      <th>2016-12-29</th>\n",
       "      <td>0.003325</td>\n",
       "      <td>0.001110</td>\n",
       "    </tr>\n",
       "    <tr>\n",
       "      <th>2016-12-30</th>\n",
       "      <td>-0.003206</td>\n",
       "      <td>-0.006308</td>\n",
       "    </tr>\n",
       "  </tbody>\n",
       "</table>\n",
       "</div>"
      ],
      "text/plain": [
       "                  PG    BEI.DE\n",
       "Date                          \n",
       "2016-12-23  0.005784  0.001858\n",
       "2016-12-27 -0.004246  0.004075\n",
       "2016-12-28 -0.006284 -0.001603\n",
       "2016-12-29  0.003325  0.001110\n",
       "2016-12-30 -0.003206 -0.006308"
      ]
     },
     "execution_count": 3,
     "metadata": {},
     "output_type": "execute_result"
    }
   ],
   "source": [
    "# Calculando os retornos:\n",
    "sec_returns = np.log(sec_data / sec_data.shift(1))\n",
    "\n",
    "sec_returns.tail()"
   ]
  },
  {
   "cell_type": "markdown",
   "metadata": {},
   "source": [
    "Cálculo do Risco Diversificável:"
   ]
  },
  {
   "cell_type": "code",
   "execution_count": 4,
   "metadata": {},
   "outputs": [],
   "source": [
    "# Atribuir pesos às ações:\n",
    "weights = np.array([0.5,0.5])"
   ]
  },
  {
   "cell_type": "code",
   "execution_count": 5,
   "metadata": {},
   "outputs": [],
   "source": [
    "# Obter a variancia da carteira:\n",
    "portfolio_var = np.dot(weights.T, np.dot(sec_returns.cov()*250, weights))"
   ]
  },
  {
   "cell_type": "code",
   "execution_count": 9,
   "metadata": {},
   "outputs": [],
   "source": [
    "# Obter a variância anual das ações:\n",
    "PG_var_a = sec_returns['PG'].var()*250\n",
    "\n",
    "BEI_var_a = sec_returns['BEI.DE'].var()*250"
   ]
  },
  {
   "cell_type": "code",
   "execution_count": 12,
   "metadata": {},
   "outputs": [
    {
     "name": "stdout",
     "output_type": "stream",
     "text": [
      "Risco Diversificável/Não Sistemico: 0.52%\n"
     ]
    }
   ],
   "source": [
    "# Subtrair da variância da carteira as variancias anuais das ações ponderadas:\n",
    "risc_diver = portfolio_var - (weights[0] ** 2 * PG_var_a) - (weights[1] ** 2 * BEI_var_a)\n",
    "\n",
    "print(f'Risco Diversificável/Não Sistemico: {risc_diver*100:.2f}%')"
   ]
  },
  {
   "cell_type": "markdown",
   "metadata": {},
   "source": [
    "Cálculo do Risco Não Diversificável"
   ]
  },
  {
   "cell_type": "code",
   "execution_count": 13,
   "metadata": {},
   "outputs": [
    {
     "name": "stdout",
     "output_type": "stream",
     "text": [
      "Risco Não Diversificável/Sistemico: 2.08%\n"
     ]
    }
   ],
   "source": [
    "# Forma 1:\n",
    "risco_nd1 = portfolio_var - risc_diver\n",
    "print(f'Risco Não Diversificável/Sistemico: {risco_nd1*100:.2f}%')"
   ]
  },
  {
   "cell_type": "code",
   "execution_count": 14,
   "metadata": {},
   "outputs": [
    {
     "name": "stdout",
     "output_type": "stream",
     "text": [
      "Risco Não Diversificável/Sistemico: 2.08%\n"
     ]
    }
   ],
   "source": [
    "# Forma 2:\n",
    "risco_nd2 = (weights[0] ** 2 * PG_var_a) + (weights[1] ** 2 * BEI_var_a)\n",
    "print(f'Risco Não Diversificável/Sistemico: {risco_nd2*100:.2f}%')"
   ]
  },
  {
   "cell_type": "code",
   "execution_count": 15,
   "metadata": {},
   "outputs": [
    {
     "name": "stdout",
     "output_type": "stream",
     "text": [
      "Risco Diversificável/Não Sistemico: 0.52%\n"
     ]
    }
   ],
   "source": [
    "# Diversificavel - Forma 2:\n",
    "risco_diver2 = portfolio_var - risco_nd2\n",
    "print(f'Risco Diversificável/Não Sistemico: {risco_diver2*100:.2f}%')"
   ]
  },
  {
   "cell_type": "markdown",
   "metadata": {},
   "source": [
    "Obs.: Aplicar as formas 2 do Risco Não Diversificável e Diversificável a Loops para facilitar o processo com Portfolios maiores."
   ]
  }
 ],
 "metadata": {
  "kernelspec": {
   "display_name": "Python 3.10.5 64-bit",
   "language": "python",
   "name": "python3"
  },
  "language_info": {
   "codemirror_mode": {
    "name": "ipython",
    "version": 3
   },
   "file_extension": ".py",
   "mimetype": "text/x-python",
   "name": "python",
   "nbconvert_exporter": "python",
   "pygments_lexer": "ipython3",
   "version": "3.10.5"
  },
  "orig_nbformat": 4,
  "vscode": {
   "interpreter": {
    "hash": "ed3943dba37f3ed717092a780584c496f36863d6c99891baccd6632ecc02cdda"
   }
  }
 },
 "nbformat": 4,
 "nbformat_minor": 2
}
