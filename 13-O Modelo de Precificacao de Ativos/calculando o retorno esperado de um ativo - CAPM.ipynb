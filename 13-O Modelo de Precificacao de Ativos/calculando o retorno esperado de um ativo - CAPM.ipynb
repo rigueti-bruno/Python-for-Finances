{
 "cells": [
  {
   "cell_type": "markdown",
   "metadata": {},
   "source": [
    "#### Calculando o Beta de uma Ação"
   ]
  },
  {
   "cell_type": "code",
   "execution_count": 1,
   "metadata": {},
   "outputs": [],
   "source": [
    "# Importanto bibliotecas necessárias:\n",
    "import numpy as np\n",
    "import pandas as pd\n",
    "from pandas_datareader import data as wb"
   ]
  },
  {
   "cell_type": "code",
   "execution_count": 2,
   "metadata": {},
   "outputs": [
    {
     "data": {
      "text/html": [
       "<div>\n",
       "<style scoped>\n",
       "    .dataframe tbody tr th:only-of-type {\n",
       "        vertical-align: middle;\n",
       "    }\n",
       "\n",
       "    .dataframe tbody tr th {\n",
       "        vertical-align: top;\n",
       "    }\n",
       "\n",
       "    .dataframe thead th {\n",
       "        text-align: right;\n",
       "    }\n",
       "</style>\n",
       "<table border=\"1\" class=\"dataframe\">\n",
       "  <thead>\n",
       "    <tr style=\"text-align: right;\">\n",
       "      <th></th>\n",
       "      <th>PG</th>\n",
       "      <th>^GSPC</th>\n",
       "    </tr>\n",
       "    <tr>\n",
       "      <th>Date</th>\n",
       "      <th></th>\n",
       "      <th></th>\n",
       "    </tr>\n",
       "  </thead>\n",
       "  <tbody>\n",
       "    <tr>\n",
       "      <th>2022-09-15</th>\n",
       "      <td>137.440002</td>\n",
       "      <td>3901.350098</td>\n",
       "    </tr>\n",
       "    <tr>\n",
       "      <th>2022-09-16</th>\n",
       "      <td>138.279999</td>\n",
       "      <td>3873.330078</td>\n",
       "    </tr>\n",
       "    <tr>\n",
       "      <th>2022-09-19</th>\n",
       "      <td>137.990005</td>\n",
       "      <td>3899.889893</td>\n",
       "    </tr>\n",
       "    <tr>\n",
       "      <th>2022-09-20</th>\n",
       "      <td>137.500000</td>\n",
       "      <td>3855.929932</td>\n",
       "    </tr>\n",
       "    <tr>\n",
       "      <th>2022-09-21</th>\n",
       "      <td>135.729996</td>\n",
       "      <td>3789.929932</td>\n",
       "    </tr>\n",
       "  </tbody>\n",
       "</table>\n",
       "</div>"
      ],
      "text/plain": [
       "                    PG        ^GSPC\n",
       "Date                               \n",
       "2022-09-15  137.440002  3901.350098\n",
       "2022-09-16  138.279999  3873.330078\n",
       "2022-09-19  137.990005  3899.889893\n",
       "2022-09-20  137.500000  3855.929932\n",
       "2022-09-21  135.729996  3789.929932"
      ]
     },
     "execution_count": 2,
     "metadata": {},
     "output_type": "execute_result"
    }
   ],
   "source": [
    "# Carregando os dados:\n",
    "tickers = ['PG','^GSPC']\n",
    "data = pd.DataFrame()\n",
    "for t in tickers:\n",
    "    data[t] = wb.DataReader(t,data_source='yahoo', start='2017-10-17', end='2022-9-21')['Adj Close']\n",
    "\n",
    "data.tail()"
   ]
  },
  {
   "cell_type": "code",
   "execution_count": 3,
   "metadata": {},
   "outputs": [
    {
     "data": {
      "text/html": [
       "<div>\n",
       "<style scoped>\n",
       "    .dataframe tbody tr th:only-of-type {\n",
       "        vertical-align: middle;\n",
       "    }\n",
       "\n",
       "    .dataframe tbody tr th {\n",
       "        vertical-align: top;\n",
       "    }\n",
       "\n",
       "    .dataframe thead th {\n",
       "        text-align: right;\n",
       "    }\n",
       "</style>\n",
       "<table border=\"1\" class=\"dataframe\">\n",
       "  <thead>\n",
       "    <tr style=\"text-align: right;\">\n",
       "      <th></th>\n",
       "      <th>PG</th>\n",
       "      <th>^GSPC</th>\n",
       "    </tr>\n",
       "    <tr>\n",
       "      <th>Date</th>\n",
       "      <th></th>\n",
       "      <th></th>\n",
       "    </tr>\n",
       "  </thead>\n",
       "  <tbody>\n",
       "    <tr>\n",
       "      <th>2022-09-15</th>\n",
       "      <td>-0.007755</td>\n",
       "      <td>-0.011382</td>\n",
       "    </tr>\n",
       "    <tr>\n",
       "      <th>2022-09-16</th>\n",
       "      <td>0.006093</td>\n",
       "      <td>-0.007208</td>\n",
       "    </tr>\n",
       "    <tr>\n",
       "      <th>2022-09-19</th>\n",
       "      <td>-0.002099</td>\n",
       "      <td>0.006834</td>\n",
       "    </tr>\n",
       "    <tr>\n",
       "      <th>2022-09-20</th>\n",
       "      <td>-0.003557</td>\n",
       "      <td>-0.011336</td>\n",
       "    </tr>\n",
       "    <tr>\n",
       "      <th>2022-09-21</th>\n",
       "      <td>-0.012956</td>\n",
       "      <td>-0.017265</td>\n",
       "    </tr>\n",
       "  </tbody>\n",
       "</table>\n",
       "</div>"
      ],
      "text/plain": [
       "                  PG     ^GSPC\n",
       "Date                          \n",
       "2022-09-15 -0.007755 -0.011382\n",
       "2022-09-16  0.006093 -0.007208\n",
       "2022-09-19 -0.002099  0.006834\n",
       "2022-09-20 -0.003557 -0.011336\n",
       "2022-09-21 -0.012956 -0.017265"
      ]
     },
     "execution_count": 3,
     "metadata": {},
     "output_type": "execute_result"
    }
   ],
   "source": [
    "# Calculando os retornos:\n",
    "sec_returns = np.log(data / data.shift(1))\n",
    "\n",
    "sec_returns.tail()"
   ]
  },
  {
   "cell_type": "code",
   "execution_count": 4,
   "metadata": {},
   "outputs": [
    {
     "data": {
      "text/html": [
       "<div>\n",
       "<style scoped>\n",
       "    .dataframe tbody tr th:only-of-type {\n",
       "        vertical-align: middle;\n",
       "    }\n",
       "\n",
       "    .dataframe tbody tr th {\n",
       "        vertical-align: top;\n",
       "    }\n",
       "\n",
       "    .dataframe thead th {\n",
       "        text-align: right;\n",
       "    }\n",
       "</style>\n",
       "<table border=\"1\" class=\"dataframe\">\n",
       "  <thead>\n",
       "    <tr style=\"text-align: right;\">\n",
       "      <th></th>\n",
       "      <th>PG</th>\n",
       "      <th>^GSPC</th>\n",
       "    </tr>\n",
       "  </thead>\n",
       "  <tbody>\n",
       "    <tr>\n",
       "      <th>PG</th>\n",
       "      <td>0.046792</td>\n",
       "      <td>0.026302</td>\n",
       "    </tr>\n",
       "    <tr>\n",
       "      <th>^GSPC</th>\n",
       "      <td>0.026302</td>\n",
       "      <td>0.045307</td>\n",
       "    </tr>\n",
       "  </tbody>\n",
       "</table>\n",
       "</div>"
      ],
      "text/plain": [
       "             PG     ^GSPC\n",
       "PG     0.046792  0.026302\n",
       "^GSPC  0.026302  0.045307"
      ]
     },
     "execution_count": 4,
     "metadata": {},
     "output_type": "execute_result"
    }
   ],
   "source": [
    "# Calculando a Matriz de Covariância dos Retornos Anualizada:\n",
    "cov = sec_returns.cov() * 250\n",
    "\n",
    "cov"
   ]
  },
  {
   "cell_type": "code",
   "execution_count": 5,
   "metadata": {},
   "outputs": [
    {
     "data": {
      "text/plain": [
       "0.02630234016862865"
      ]
     },
     "execution_count": 5,
     "metadata": {},
     "output_type": "execute_result"
    }
   ],
   "source": [
    "# Extraindo a covariância entre a ação e a carteira de mercado:\n",
    "cov_with_market = cov.iloc[0,1] # segunda celula da matriz de covariancia\n",
    "\n",
    "cov_with_market"
   ]
  },
  {
   "cell_type": "code",
   "execution_count": 6,
   "metadata": {},
   "outputs": [
    {
     "data": {
      "text/plain": [
       "0.04530676220096192"
      ]
     },
     "execution_count": 6,
     "metadata": {},
     "output_type": "execute_result"
    }
   ],
   "source": [
    "# Calculando a Variância da Carteira de Mercado anualizada:\n",
    "market_var = sec_returns['^GSPC'].var() * 250\n",
    "\n",
    "market_var"
   ]
  },
  {
   "cell_type": "code",
   "execution_count": 7,
   "metadata": {},
   "outputs": [
    {
     "name": "stdout",
     "output_type": "stream",
     "text": [
      "Beta da PG: 0.58\n"
     ]
    }
   ],
   "source": [
    "# Calculando o Beta:\n",
    "PG_beta = cov_with_market / market_var\n",
    "\n",
    "print(f'Beta da PG: {PG_beta:.2f}')"
   ]
  },
  {
   "cell_type": "code",
   "execution_count": 8,
   "metadata": {},
   "outputs": [
    {
     "name": "stdout",
     "output_type": "stream",
     "text": [
      "0.58: Ação Defensiva.\n"
     ]
    }
   ],
   "source": [
    "def tipo_acao(beta):\n",
    "    if beta == 0:\n",
    "        return f'{beta:.2f}: Sem relação com o mercado.'\n",
    "    elif beta < 1:\n",
    "        return f'{beta:.2f}: Ação Defensiva.'\n",
    "    elif beta == 1:\n",
    "        return f'{beta:.2f}: Risco igual ao do mercado.'\n",
    "    elif beta > 1:\n",
    "        return f'{beta:.2f}: Ação Arriscada/Volátil.'\n",
    "    \n",
    "print(tipo_acao(PG_beta))"
   ]
  },
  {
   "cell_type": "markdown",
   "metadata": {},
   "source": [
    "#### Calculando o Retorno Esperado de uma Ação - CAPM"
   ]
  },
  {
   "cell_type": "code",
   "execution_count": 9,
   "metadata": {},
   "outputs": [
    {
     "name": "stdout",
     "output_type": "stream",
     "text": [
      "Retorno Esperado da Ação da P&G: 5.40%\n"
     ]
    }
   ],
   "source": [
    "rf = 2.5 / 100 # retorno dos titulos americanos de 10 anos\n",
    "rm_rf = 5 / 100 # premio de risco de mercado pada ações nos EUA\n",
    "\n",
    "# Calculo do Retorno Esperado\n",
    "PG_er = rf + PG_beta * rm_rf\n",
    "\n",
    "print(f'Retorno Esperado da Ação da P&G: {PG_er * 100:.2f}%')"
   ]
  },
  {
   "cell_type": "markdown",
   "metadata": {},
   "source": [
    "#### Calculando o Índice de Sharpe"
   ]
  },
  {
   "cell_type": "code",
   "execution_count": 11,
   "metadata": {},
   "outputs": [
    {
     "name": "stdout",
     "output_type": "stream",
     "text": [
      "Índice Sharpe da PG: 0.13\n"
     ]
    }
   ],
   "source": [
    "rf = 2.5 / 100\n",
    "\n",
    "Sharpe = (PG_er - rf) / (sec_returns['PG'].std() * 250 ** 0.5)\n",
    "# PG_er - retorno esperado do ativo calculado pelo CAPM\n",
    "# rf - retorno livre de risco utilizado no mercado\n",
    "# sec_returns['PG'].std() * 250 ** 0.5 - desvio-padrão dos retornos do ativo anualizado - risco do ativo\n",
    "\n",
    "print(f'Índice Sharpe da PG: {Sharpe:.2f}')"
   ]
  }
 ],
 "metadata": {
  "kernelspec": {
   "display_name": "Python 3.10.5 64-bit",
   "language": "python",
   "name": "python3"
  },
  "language_info": {
   "codemirror_mode": {
    "name": "ipython",
    "version": 3
   },
   "file_extension": ".py",
   "mimetype": "text/x-python",
   "name": "python",
   "nbconvert_exporter": "python",
   "pygments_lexer": "ipython3",
   "version": "3.10.5"
  },
  "orig_nbformat": 4,
  "vscode": {
   "interpreter": {
    "hash": "ed3943dba37f3ed717092a780584c496f36863d6c99891baccd6632ecc02cdda"
   }
  }
 },
 "nbformat": 4,
 "nbformat_minor": 2
}
